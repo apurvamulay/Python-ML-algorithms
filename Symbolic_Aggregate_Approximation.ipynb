{
  "nbformat": 4,
  "nbformat_minor": 0,
  "metadata": {
    "colab": {
      "name": "HW3_SAX.ipynb",
      "provenance": [],
      "collapsed_sections": []
    },
    "kernelspec": {
      "name": "python3",
      "display_name": "Python 3"
    }
  },
  "cells": [
    {
      "cell_type": "code",
      "metadata": {
        "id": "WWI3myGWojip",
        "colab_type": "code",
        "colab": {}
      },
      "source": [
        "# Referred: https://www.cs.ucr.edu/~eamonn/SAX.pdf\n",
        "import statistics\n",
        "import string\n",
        "import scipy.stats\n",
        "import numpy as np"
      ],
      "execution_count": 0,
      "outputs": []
    },
    {
      "cell_type": "code",
      "metadata": {
        "id": "uJ5dKOIz0mfS",
        "colab_type": "code",
        "colab": {}
      },
      "source": [
        "# equi-probable areas for gaussian curve using statistical lookup table\n",
        "def lookup_for_equi_probable_regions(alphabet_size):\n",
        "    regions = np.arange(0, alphabet_size, 1) / alphabet_size\n",
        "    return scipy.stats.norm.ppf(regions)\n"
      ],
      "execution_count": 0,
      "outputs": []
    },
    {
      "cell_type": "code",
      "metadata": {
        "id": "sCdFecSi0twK",
        "colab_type": "code",
        "colab": {}
      },
      "source": [
        "def z_normalize(time_series):\n",
        "    tsMean = statistics.mean(time_series)\n",
        "    tsDeviation = statistics.stdev(time_series)\n",
        "\n",
        "    normalized_value = (time_series - tsMean) / tsDeviation\n",
        "    return normalized_value\n"
      ],
      "execution_count": 0,
      "outputs": []
    },
    {
      "cell_type": "code",
      "metadata": {
        "id": "Q8qe4c6V0xFm",
        "colab_type": "code",
        "colab": {}
      },
      "source": [
        "# piecewise aggregate approximation - ts divided into segments and then each segment replace by avg of its data points\n",
        "def paa_calculation(timeSeries, word_length):\n",
        "    \n",
        "    try:\n",
        "        assert timeSeries.shape[0] != word_length\n",
        "    except AssertionError as e:\n",
        "        return np.copy(timeSeries)\n",
        "    else:\n",
        "        # time series can be divided equally\n",
        "        if timeSeries.shape[0] % word_length == 0:\n",
        "            words = np.split(timeSeries, word_length)\n",
        "            res = []\n",
        "            # find mean of every segment\n",
        "            for word in words:\n",
        "                res.append(word.mean())\n",
        "\n",
        "            res = np.array(\n",
        "                [mean_value for item in res for mean_value in\n",
        "                 [item.mean()] * item.shape[0]]\n",
        "            )\n",
        "\n",
        "            # cannot be divided equally\n",
        "        else:\n",
        "            space_size = np.arange(0, timeSeries.shape[0] * word_length - 1) \n",
        "           \n",
        "            output_indx = space_size // timeSeries.shape[0]\n",
        "           \n",
        "            input_indx = space_size // word_length\n",
        "           \n",
        "            unique, unique_indices = np.unique(output_indx, return_counts=True)\n",
        "\n",
        "            #print(\"Unique\", unique)\n",
        "            #print(\"Unique_indices\", unique_indices)\n",
        "\n",
        "            res = []\n",
        "            for indices in np.split(input_indx, unique_indices.cumsum())[:-1]:\n",
        "                avg_segment = timeSeries[indices].sum() / timeSeries.shape[0]\n",
        "                res.append(avg_segment)\n",
        "\n",
        "        return res\n"
      ],
      "execution_count": 0,
      "outputs": []
    },
    {
      "cell_type": "code",
      "metadata": {
        "id": "NkLpSarZ1AVh",
        "colab_type": "code",
        "colab": {}
      },
      "source": [
        "def partitioning_ts(paa_transformed_ts, alphabet_size):\n",
        "    equal_segments = lookup_for_equi_probable_regions(alphabet_size)\n",
        "    print(\"\\n\")\n",
        "    print(\"Equal_segments\", equal_segments)\n",
        "    symbols = string.ascii_lowercase\n",
        "    paa_ts_length = len(paa_transformed_ts)\n",
        "    print('PAA Transformed time series', paa_transformed_ts)\n",
        "    sax = list()\n",
        "    for i in range(0, paa_ts_length):\n",
        "        val = paa_transformed_ts[i]\n",
        "        if val >= 0:\n",
        "            j = len(equal_segments) - 1\n",
        "            while (j > 0) and (equal_segments[j] >= val):\n",
        "                j = j - 1\n",
        "            sym = symbols[j]\n",
        "        else:\n",
        "            j = 1\n",
        "            while j < len(equal_segments) and (equal_segments[j] <= val):\n",
        "                j = j + 1\n",
        "            sym = symbols[j-1]\n",
        "        sax.append(sym)\n",
        "    print(\"SAX representation for a given time series is: \", ''.join(sax))"
      ],
      "execution_count": 0,
      "outputs": []
    },
    {
      "cell_type": "code",
      "metadata": {
        "id": "G6_k8Dqp1FbK",
        "colab_type": "code",
        "colab": {}
      },
      "source": [
        "def sax_time_series(timeSeries, alphabet_size, word_length):\n",
        "    scipy.stats.norm(0, 1)  # probablity distribution\n",
        "    normalized_ts = z_normalize(timeSeries)\n",
        "    paa_transformed_ts = paa_calculation(normalized_ts, word_length)  # piecewise aggregate approximation\n",
        "    partitioning_ts(paa_transformed_ts, alphabet_size)  # equal_area_partitioning\n"
      ],
      "execution_count": 0,
      "outputs": []
    },
    {
      "cell_type": "code",
      "metadata": {
        "id": "pCWekI3E1HBy",
        "colab_type": "code",
        "colab": {
          "base_uri": "https://localhost:8080/",
          "height": 462
        },
        "outputId": "67067598-2054-4c1c-cf88-e5cb58e37bf2"
      },
      "source": [
        "ts1 = np.array([2.02, 2.33, 2.99, 6.85, 9.20, 8.80, 7.50, 6.00, 5.85, 3.85, 4.85, 3.85, 2.22, 1.45, 1.34])\n",
        "ts2 = np.array([3.12, 2.02, 2.33, 2.99, 6.85, 9.20, 8.80, 7.50, 6.00, 5.85, 3.85, 4.85, 3.85, 2.22, 1.45, 1.34])\n",
        "ts3 = np.array([1, 2, 3, 4, 5, 6, 7, 8, 9, 10])\n",
        "ts4 = np.array([0.50, 1.29, 2.58, 3.83, 3.25, 4.25, 3.83, 5.63, 6.44, 6.25, 8.75, 8.83, 3.25, 0.75, 0.72])\n",
        "ts5 = np.array([-2, 0, 2, 0, -1])\n",
        "\n",
        "sax_time_series(ts1, 4, 9)\n",
        "sax_time_series(ts2, 4, 9)\n",
        "sax_time_series(ts3, 4, 3)\n",
        "sax_time_series(ts4, 4, 9)\n",
        "sax_time_series(ts5, 3, 5)\n"
      ],
      "execution_count": 29,
      "outputs": [
        {
          "output_type": "stream",
          "text": [
            "\n",
            "\n",
            "Equal_segments [       -inf -0.67448975  0.          0.67448975]\n",
            "PAA Transformed time series [-0.93271676745998, -0.36990526917403094, 1.38367295226873, 1.3912478041972087, 0.6299751853851243, 0.016412179178370026, -0.059336340106414524, -0.8387886035468469, -1.1380794197431736]\n",
            "SAX representation for a given time series is:  abddccbaa\n",
            "\n",
            "\n",
            "Equal_segments [       -inf -0.67448975  0.          0.67448975]\n",
            "PAA Transformed time series [-0.7273863763904705, -0.7821828167452193, 0.7028977017186578, 1.6894760902295998, 0.8675294849083679, 0.2310664055667061, -0.039278864325085455, -0.7295685355196418, -1.1356016723739393]\n",
            "SAX representation for a given time series is:  aadddcbaa\n",
            "\n",
            "\n",
            "Equal_segments [       -inf -0.67448975  0.          0.67448975]\n",
            "PAA Transformed time series [-0.9333333333333332, 0.16666666666666666, 1.0999999999999999]\n",
            "SAX representation for a given time series is:  acd\n",
            "\n",
            "\n",
            "Equal_segments [       -inf -0.67448975  0.          0.67448975]\n",
            "PAA Transformed time series [-1.1733474804127946, -0.5282635181069503, -0.19396602055665477, 0.026449911894089392, 0.5223857599082637, 0.8508054992598726, 1.7530413827582523, -0.05289982378817853, -1.1236314423155709]\n",
            "SAX representation for a given time series is:  abbccddba\n",
            "\n",
            "\n",
            "Equal_segments [      -inf -0.4307273  0.4307273]\n",
            "PAA Transformed time series [-1.41421356  0.          1.41421356  0.         -0.70710678]\n",
            "SAX representation for a given time series is:  abcba\n"
          ],
          "name": "stdout"
        }
      ]
    }
  ]
}
