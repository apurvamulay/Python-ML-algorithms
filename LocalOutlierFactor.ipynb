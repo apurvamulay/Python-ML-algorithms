{
  "nbformat": 4,
  "nbformat_minor": 0,
  "metadata": {
    "colab": {
      "name": "LOF_anomaly_detection.ipynb",
      "provenance": []
    },
    "kernelspec": {
      "name": "python3",
      "display_name": "Python 3"
    }
  },
  "cells": [
    {
      "cell_type": "code",
      "metadata": {
        "id": "jcpaU4hh59jE",
        "colab_type": "code",
        "colab": {}
      },
      "source": [
        "import numpy as np\n"
      ],
      "execution_count": 0,
      "outputs": []
    },
    {
      "cell_type": "code",
      "metadata": {
        "id": "fRHlarr06GwG",
        "colab_type": "code",
        "colab": {}
      },
      "source": [
        "samples = [[0, 0], [0, 1], [1, 1], [3, 0]]\n",
        "\n",
        "test_point = np.array([3, 0])\n",
        "\n",
        "k = 2"
      ],
      "execution_count": 0,
      "outputs": []
    },
    {
      "cell_type": "code",
      "metadata": {
        "id": "j1ppsMxF6JrQ",
        "colab_type": "code",
        "colab": {}
      },
      "source": [
        "#Returns tuple(point, distance)\n",
        "def calculate_euclidean_distances(point, neighbors=None):\n",
        "    if neighbors is None:\n",
        "        neighbors = samples\n",
        "    euc_distances = []\n",
        "    for neighbor in neighbors:\n",
        "        euc_dist = np.linalg.norm(point - np.array(neighbor))\n",
        "        euc_distances.append(tuple((neighbor, euc_dist)))\n",
        "\n",
        "    return euc_distances\n"
      ],
      "execution_count": 0,
      "outputs": []
    },
    {
      "cell_type": "code",
      "metadata": {
        "id": "plh7tIAm6Joh",
        "colab_type": "code",
        "colab": {}
      },
      "source": [
        "def get_sorted_euclidean_dist(point):\n",
        "    euc_distances = calculate_euclidean_distances(point)\n",
        "    sorted_distances = sorted(euc_distances, key=lambda x:x[1])\n",
        "\n",
        "    return sorted_distances\n"
      ],
      "execution_count": 0,
      "outputs": []
    },
    {
      "cell_type": "code",
      "metadata": {
        "id": "N7b4ecXz6OrN",
        "colab_type": "code",
        "colab": {}
      },
      "source": [
        "def calculate_nearest_neighbors(k, point):\n",
        "    sorted_point_distances_tuple = get_sorted_euclidean_dist(point)\n",
        "    k_nearest_neighbors = []\n",
        "    for i in range(len(sorted_point_distances_tuple)):\n",
        "        if (i <= k and sorted_point_distances_tuple[i][1] > 0):\n",
        "            k_nearest_neighbors.append(tuple((sorted_point_distances_tuple[i][0], sorted_point_distances_tuple[i][1])))\n",
        "\n",
        "    return k_nearest_neighbors\n"
      ],
      "execution_count": 0,
      "outputs": []
    },
    {
      "cell_type": "code",
      "metadata": {
        "id": "1ZFtJJ736SNa",
        "colab_type": "code",
        "colab": {}
      },
      "source": [
        "def calculate_k_distance_for_point(k, point):\n",
        "    sorted_distances = get_sorted_euclidean_dist(point)\n",
        "    k_neighbor_distance = sorted_distances[k][1]\n",
        "    return k_neighbor_distance\n"
      ],
      "execution_count": 0,
      "outputs": []
    },
    {
      "cell_type": "code",
      "metadata": {
        "id": "de0gSD196VGn",
        "colab_type": "code",
        "colab": {}
      },
      "source": [
        "def calculate_reachability_distances(k, k_nearest_neighbors_tuples):\n",
        "    kth_neighbor_distance = k_nearest_neighbors_tuples[k-1][k-1]\n",
        "\n",
        "    dist_with_neighbors = []\n",
        "\n",
        "    for kth_dist_neighbor in k_nearest_neighbors_tuples:\n",
        "        neighbor_kth_dist = calculate_k_distance_for_point(k, kth_dist_neighbor[0])\n",
        "        dist_with_neighbors.append(neighbor_kth_dist)\n",
        "    reach_distances = []\n",
        "\n",
        "    for dist_with_neighbors in dist_with_neighbors:\n",
        "        reach_dist = max(kth_neighbor_distance, dist_with_neighbors)\n",
        "        reach_distances.append(reach_dist)\n",
        "\n",
        "    return reach_distances\n"
      ],
      "execution_count": 0,
      "outputs": []
    },
    {
      "cell_type": "code",
      "metadata": {
        "id": "5P5gIlYn6ZPm",
        "colab_type": "code",
        "colab": {}
      },
      "source": [
        "def calculate_lrd(point,k):\n",
        "    neighbors = calculate_nearest_neighbors(k, point)\n",
        "    reach_distances = calculate_reachability_distances(k,neighbors)\n",
        "\n",
        "    num = k\n",
        "    deno = np.array(reach_distances).sum()\n",
        "\n",
        "    lrd = num / deno\n",
        "\n",
        "    return lrd\n",
        "\n"
      ],
      "execution_count": 0,
      "outputs": []
    },
    {
      "cell_type": "code",
      "metadata": {
        "id": "HPyYqRIE6cFF",
        "colab_type": "code",
        "colab": {}
      },
      "source": [
        "\n",
        "#           1       [LRD(b) + LRD(c)] (i.e lrd of neighbors)\n",
        "# LOF(a) = -- X ----------------------------------------------------\n",
        "#           k           LRD(a)\n",
        "\n",
        "def calculate_lof(k, point):\n",
        "    neighbors = calculate_nearest_neighbors(k, point)\n",
        "    lrd_of_point = calculate_lrd(point, k)\n",
        "    print(\"lrd of a point\", lrd_of_point)\n",
        "\n",
        "    lrd_neighbours = []\n",
        "    for neighbor in neighbors:\n",
        "        lrd_neighbours.append(calculate_lrd(neighbor[0],k))\n",
        "    print(\"lrd of neighbours\", lrd_neighbours)\n",
        "\n",
        "    sum_neighbors = np.array(lrd_neighbours).sum()\n",
        "    total_sum = sum_neighbors / lrd_of_point\n",
        "    LOF_score = total_sum / k\n",
        "\n",
        "    print(\"LOF score: \", LOF_score)"
      ],
      "execution_count": 0,
      "outputs": []
    },
    {
      "cell_type": "code",
      "metadata": {
        "id": "r_BJJsZs6e9y",
        "colab_type": "code",
        "outputId": "c87d01a2-d67d-40d2-8705-817fb7f6a9a6",
        "colab": {
          "base_uri": "https://localhost:8080/",
          "height": 68
        }
      },
      "source": [
        "\n",
        "calculate_lof(k, test_point)"
      ],
      "execution_count": 39,
      "outputs": [
        {
          "output_type": "stream",
          "text": [
            "lrd of a point 0.3333333333333333\n",
            "lrd of neighbours [0.7071067811865475, 0.7071067811865475]\n",
            "LOF score:  2.1213203435596424\n"
          ],
          "name": "stdout"
        }
      ]
    }
  ]
}
