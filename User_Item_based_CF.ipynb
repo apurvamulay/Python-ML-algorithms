{
  "nbformat": 4,
  "nbformat_minor": 0,
  "metadata": {
    "colab": {
      "name": "DS_HW3_CF.ipynb",
      "provenance": []
    },
    "kernelspec": {
      "name": "python3",
      "display_name": "Python 3"
    }
  },
  "cells": [
    {
      "cell_type": "code",
      "metadata": {
        "id": "_ExAxcdSO4dK",
        "colab_type": "code",
        "colab": {}
      },
      "source": [
        "# The file u.data that contains the ratings is a tab separated list of user ID, item ID, rating, and timestamp.\n",
        "import pandas as pd\n",
        "import numpy as np\n",
        "from sklearn.metrics.pairwise import cosine_similarity\n"
      ],
      "execution_count": 0,
      "outputs": []
    },
    {
      "cell_type": "code",
      "metadata": {
        "id": "mwOZrymaPKnY",
        "colab_type": "code",
        "colab": {}
      },
      "source": [
        "# Read file into dataframe\n",
        "df = pd.read_csv('u.data', sep='\\t', header=None, names=['UserId', 'Item', 'Rating', 'Timestamp'])\n",
        "df.drop('Timestamp', axis=1, inplace=True)\n"
      ],
      "execution_count": 0,
      "outputs": []
    },
    {
      "cell_type": "code",
      "metadata": {
        "id": "l5vN8HV4POS-",
        "colab_type": "code",
        "outputId": "846548d4-a93a-41a3-9d58-6c46263d4e7a",
        "colab": {
          "base_uri": "https://localhost:8080/",
          "height": 272
        }
      },
      "source": [
        "# convert dataframe to matrix\n",
        "user_item_sparse_matrix = df.pivot_table(index=['UserId'], columns='Item', values='Rating')\n",
        "print(user_item_sparse_matrix)\n",
        "\n"
      ],
      "execution_count": 85,
      "outputs": [
        {
          "output_type": "stream",
          "text": [
            "Item    1     2     3     4     5     6     ...  1677  1678  1679  1680  1681  1682\n",
            "UserId                                      ...                                    \n",
            "1        5.0   3.0   4.0   3.0   3.0   5.0  ...   NaN   NaN   NaN   NaN   NaN   NaN\n",
            "2        4.0   NaN   NaN   NaN   NaN   NaN  ...   NaN   NaN   NaN   NaN   NaN   NaN\n",
            "3        NaN   NaN   NaN   NaN   NaN   NaN  ...   NaN   NaN   NaN   NaN   NaN   NaN\n",
            "4        NaN   NaN   NaN   NaN   NaN   NaN  ...   NaN   NaN   NaN   NaN   NaN   NaN\n",
            "5        4.0   3.0   NaN   NaN   NaN   NaN  ...   NaN   NaN   NaN   NaN   NaN   NaN\n",
            "...      ...   ...   ...   ...   ...   ...  ...   ...   ...   ...   ...   ...   ...\n",
            "939      NaN   NaN   NaN   NaN   NaN   NaN  ...   NaN   NaN   NaN   NaN   NaN   NaN\n",
            "940      NaN   NaN   NaN   2.0   NaN   NaN  ...   NaN   NaN   NaN   NaN   NaN   NaN\n",
            "941      5.0   NaN   NaN   NaN   NaN   NaN  ...   NaN   NaN   NaN   NaN   NaN   NaN\n",
            "942      NaN   NaN   NaN   NaN   NaN   NaN  ...   NaN   NaN   NaN   NaN   NaN   NaN\n",
            "943      NaN   5.0   NaN   NaN   NaN   NaN  ...   NaN   NaN   NaN   NaN   NaN   NaN\n",
            "\n",
            "[943 rows x 1682 columns]\n"
          ],
          "name": "stdout"
        }
      ]
    },
    {
      "cell_type": "code",
      "metadata": {
        "id": "FrG7RMESPUCF",
        "colab_type": "code",
        "colab": {}
      },
      "source": [
        "#Replace nan with avg of column\n",
        "def replace_nan_column_Avg(sparse_matrix):\n",
        "    return sparse_matrix.fillna(sparse_matrix.mean(axis=0))\n",
        "\n",
        "#Replace nan with avg of row\n",
        "def replace_nan_row_Avg(sparse_matrix):\n",
        "    return sparse_matrix.apply(lambda row: row.fillna(row.mean()), axis=1)\n"
      ],
      "execution_count": 0,
      "outputs": []
    },
    {
      "cell_type": "code",
      "metadata": {
        "id": "f61Rh63JPXcU",
        "colab_type": "code",
        "colab": {}
      },
      "source": [
        "def calculate_similarity(avg_replaced_matrix):\n",
        "    cosine = cosine_similarity(avg_replaced_matrix)\n",
        "    np.fill_diagonal(cosine, 0)\n",
        "    similarity = pd.DataFrame(cosine, index=avg_replaced_matrix.index)\n",
        "    similarity.columns = avg_replaced_matrix.index\n",
        "    return similarity\n",
        "\n"
      ],
      "execution_count": 0,
      "outputs": []
    },
    {
      "cell_type": "code",
      "metadata": {
        "id": "Q0SIS6t0PaR9",
        "colab_type": "code",
        "colab": {}
      },
      "source": [
        "def calculate_neighbors(df, n):\n",
        "    df = df.apply(\n",
        "        lambda val: pd.Series(val.sort_values(ascending=False).iloc[:n].index, index=[i for i in range(1, n + 1)]),\n",
        "        axis=1)\n",
        "    return df\n"
      ],
      "execution_count": 0,
      "outputs": []
    },
    {
      "cell_type": "code",
      "metadata": {
        "id": "X53R6ttIPytR",
        "colab_type": "code",
        "colab": {}
      },
      "source": [
        "def predict_user_based_rating(user_item_matrix, user_id, item_id, k_neighbors, item_avg_matrix, user_avg_matrix,\n",
        "                              similarity_matrix):\n",
        "    neighbor_user_values = k_neighbors[k_neighbors.index == user_id].values\n",
        "    neighbor_user_list = neighbor_user_values.squeeze().tolist()\n",
        "\n",
        "    item = item_avg_matrix.loc[:, item_id]\n",
        "\n",
        "    neighbors = item[item.index.isin(neighbor_user_list)]\n",
        "    non_null_neighbors = neighbors[neighbors.notnull()]\n",
        "\n",
        "    user_avg = user_item_matrix['Average'][user_id]\n",
        "\n",
        "    index = non_null_neighbors.index.values.squeeze().tolist()\n",
        "    #similarity of user u and user v, v in neighbors of u\n",
        "    user_similarity = similarity_matrix.loc[user_id, index]\n",
        "\n",
        "    normal_neighbors_ratings = user_avg_matrix[item_id][index] - user_item_matrix['Average'][index]\n",
        "\n",
        "    final_df = pd.concat([user_similarity, normal_neighbors_ratings], axis=1)\n",
        "    final_df.columns = ['user_similarity', 'normalized_neighbor_ratings']\n",
        "    final_df['score'] = final_df.apply(lambda x: x['user_similarity'] * x['normalized_neighbor_ratings'], axis=1)\n",
        "\n",
        "    num = (final_df['normalized_neighbor_ratings'] * final_df['user_similarity']).sum()\n",
        "    den = final_df['user_similarity'].sum()\n",
        "\n",
        "    # predicted_rating(u,i) = avg_rating(u) + (sum(similarity(u,v) * (r(v,i) - avg_rating(v)))/sum(sim(u,v)))\n",
        "    # where v belongs to neighbors of u\n",
        "    predicted_rating = user_avg + (num / den)\n",
        "\n",
        "    if predicted_rating < 0:\n",
        "        predicted_rating = 0\n",
        "    elif predicted_rating > 5:\n",
        "        predicted_rating = 5\n",
        "\n",
        "    return predicted_rating\n"
      ],
      "execution_count": 0,
      "outputs": []
    },
    {
      "cell_type": "code",
      "metadata": {
        "id": "USQNh4pNP_R1",
        "colab_type": "code",
        "colab": {}
      },
      "source": [
        "def user_based_CF(user_item_matrix, neighbor_size, user_id, item_id):\n",
        "    user_item_matrix['Average'] = user_item_matrix.mean(axis=1)\n",
        "\n",
        "    item_avg_matrix = replace_nan_column_Avg(user_item_matrix)\n",
        "    user_avg_matrix = replace_nan_row_Avg(user_item_matrix)\n",
        "\n",
        "    user_similarity_for_item = calculate_similarity(item_avg_matrix)\n",
        "    item_similarity_for_user = calculate_similarity(user_avg_matrix)\n",
        "\n",
        "    user_k_neighbours = calculate_neighbors(item_similarity_for_user, neighbor_size)\n",
        "\n",
        "\n",
        "    return predict_user_based_rating(user_item_matrix, user_id, item_id, user_k_neighbours, item_avg_matrix,\n",
        "                                     user_avg_matrix, user_similarity_for_item)"
      ],
      "execution_count": 0,
      "outputs": []
    },
    {
      "cell_type": "code",
      "metadata": {
        "id": "6IMvM-HWQC7O",
        "colab_type": "code",
        "colab": {}
      },
      "source": [
        "def predict_item_based_rating(user_item_matrix, user_id, item_id, item_k_neighbours, item_avg_matrix, user_avg_matrix,\n",
        "                              item_similarity_with_user):\n",
        "    neighbor_item_values = item_k_neighbours[item_k_neighbours.index == item_id].values\n",
        "    neighbor_item_list = neighbor_item_values.squeeze().tolist()\n",
        "\n",
        "\n",
        "    user = user_avg_matrix.loc[:, user_id]\n",
        "\n",
        "    neighbors = user[user.index.isin(neighbor_item_list)]\n",
        "    non_null_neighbors = neighbors[neighbors.notnull()]\n",
        "\n",
        "    item_avg = user_item_matrix['ItemAverage'][item_id]\n",
        "\n",
        "    index = non_null_neighbors.index.values.squeeze().tolist()\n",
        "\n",
        "    item_similarity = item_similarity_with_user.loc[item_id, index]\n",
        "\n",
        "    # for item j in neighbors of item i ->  r(u,j) - avg_rating(j)\n",
        "    normal_neighbors_ratings = user_avg_matrix[user_id][index] - user_item_matrix['ItemAverage'][index]\n",
        "\n",
        "    fin_df = pd.concat([item_similarity, normal_neighbors_ratings], axis=1)\n",
        "    fin_df.columns = ['item_similarity', 'normalized_neighbor_ratings']\n",
        "    fin_df['score'] = fin_df.apply(lambda x: x['item_similarity'] * x['normalized_neighbor_ratings'], axis=1)\n",
        "\n",
        "    num = (fin_df['score']).sum()\n",
        "    den = fin_df['item_similarity'].sum()\n",
        "\n",
        "    # predicted_rating(u,i) = avg_rating(i) + (sum(similarity(i,j) * (r(u,j) - avg_rating(j)))/sum(similarity(i,j)))\n",
        "    # where j belongs to neighbors of i\n",
        "    predicted_rating = item_avg + (num / den)\n",
        "\n",
        "    if predicted_rating < 0:\n",
        "        predicted_rating = 0\n",
        "    elif predicted_rating > 5:\n",
        "        predicted_rating = 5\n",
        "\n",
        "    return predicted_rating\n",
        "\n"
      ],
      "execution_count": 0,
      "outputs": []
    },
    {
      "cell_type": "code",
      "metadata": {
        "id": "GxXlczYLQGgT",
        "colab_type": "code",
        "colab": {}
      },
      "source": [
        "def item_based_CF(item_user_matrix, neighbor_size, user_id, item_id):\n",
        "    item_user_matrix['ItemAverage'] = item_user_matrix.mean(axis=1)\n",
        "\n",
        "    item_avg_matrix = replace_nan_row_Avg(item_user_matrix)\n",
        "    user_avg_matrix = replace_nan_column_Avg(item_user_matrix)\n",
        "\n",
        "    user_similarity_for_item = calculate_similarity(item_avg_matrix)\n",
        "    item_similarity_for_user = calculate_similarity(user_avg_matrix)\n",
        "\n",
        "    item_k_neighbours = calculate_neighbors(user_similarity_for_item, neighbor_size)\n",
        "\n",
        "    return predict_item_based_rating(item_user_matrix, user_id, item_id, item_k_neighbours, item_avg_matrix,\n",
        "                                     user_avg_matrix, item_similarity_for_user)\n"
      ],
      "execution_count": 0,
      "outputs": []
    },
    {
      "cell_type": "code",
      "metadata": {
        "id": "8Qf83mf3QKbP",
        "colab_type": "code",
        "outputId": "53e4b5ad-ffc5-45e0-9580-853df218b1b1",
        "colab": {
          "base_uri": "https://localhost:8080/",
          "height": 51
        }
      },
      "source": [
        "def predict_user_and_item_based_rating(user_item_matrix, neighbor_size, user_id, item_id):\n",
        "    predicted_rating_user_based = user_based_CF(user_item_matrix, neighbor_size, user_id, item_id)\n",
        "    print(\"Rating prediction using user_based CF: \", predicted_rating_user_based)\n",
        "\n",
        "    user_item_matrix_transpose = user_item_matrix.T  # Transpose a matrix for item-based CF\n",
        "\n",
        "    predicted_rating_item_based = item_based_CF(user_item_matrix_transpose, neighbor_size, user_id, item_id)\n",
        "    print(\"Rating prediction using item_based CF: \", predicted_rating_item_based)\n",
        "\n",
        "\n",
        "predict_user_and_item_based_rating(user_item_sparse_matrix, 20, 833, 474)\n",
        "#predict_user_and_item_based_rating(user_item_sparse_matrix, 20, 238, 151)\n"
      ],
      "execution_count": 93,
      "outputs": [
        {
          "output_type": "stream",
          "text": [
            "Rating prediction using user_based CF:  3.2718230972889786\n",
            "Rating prediction using item_based CF:  4.460948153061859\n"
          ],
          "name": "stdout"
        }
      ]
    }
  ]
}
